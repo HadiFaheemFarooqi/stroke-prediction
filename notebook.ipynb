{
 "cells": [
  {
   "cell_type": "markdown",
   "id": "a9398693",
   "metadata": {},
   "source": [
    "# Required Models "
   ]
  },
  {
   "cell_type": "code",
   "execution_count": null,
   "id": "26f22835",
   "metadata": {},
   "outputs": [],
   "source": [
    "import pandas as pd\n",
    "from sklearn.model_selection import train_test_split"
   ]
  },
  {
   "cell_type": "code",
   "execution_count": null,
   "id": "cbf3f82b",
   "metadata": {},
   "outputs": [],
   "source": [
    "df = pd.read_csv(\"healthcare-dataset-stroke-data.csv\")"
   ]
  },
  {
   "cell_type": "code",
   "execution_count": null,
   "id": "58a63a41",
   "metadata": {},
   "outputs": [],
   "source": [
    "df.head()"
   ]
  },
  {
   "cell_type": "markdown",
   "id": "0458b75c",
   "metadata": {},
   "source": [
    "200 patients' bmi was missing, which is a small number for this dataset, it was replaced with the mean"
   ]
  },
  {
   "cell_type": "code",
   "execution_count": null,
   "id": "3cc88a37",
   "metadata": {},
   "outputs": [],
   "source": [
    "print(df.isnull().sum())"
   ]
  },
  {
   "cell_type": "code",
   "execution_count": null,
   "id": "0952ad12",
   "metadata": {},
   "outputs": [],
   "source": [
    "mean_bmi = df['bmi'].mean()\n",
    "\n",
    "# Replace NaN values in column 'A' with its mean\n",
    "df['bmi'].fillna(mean_bmi, inplace=True)"
   ]
  },
  {
   "cell_type": "code",
   "execution_count": null,
   "id": "fc22f58b",
   "metadata": {},
   "outputs": [],
   "source": [
    "print(df.isnull().sum())"
   ]
  },
  {
   "cell_type": "markdown",
   "id": "8e2439d5",
   "metadata": {},
   "source": [
    "Note: dataset is imbalanced"
   ]
  },
  {
   "cell_type": "code",
   "execution_count": null,
   "id": "65d19009",
   "metadata": {},
   "outputs": [],
   "source": [
    "df[\"stroke\"].value_counts()"
   ]
  },
  {
   "cell_type": "code",
   "execution_count": null,
   "id": "6024b6d2",
   "metadata": {},
   "outputs": [],
   "source": [
    "df.dtypes"
   ]
  },
  {
   "cell_type": "markdown",
   "id": "284143d2",
   "metadata": {},
   "source": [
    "For the models to work, i one-hot encoded these columns"
   ]
  },
  {
   "cell_type": "code",
   "execution_count": null,
   "id": "a16d0d95",
   "metadata": {},
   "outputs": [],
   "source": [
    "columns_to_encode = [\"gender\", \"ever_married\", \"work_type\", \"Residence_type\", \"smoking_status\"]\n",
    "\n",
    "df = pd.get_dummies(df, columns=columns_to_encode, drop_first=True,)\n"
   ]
  },
  {
   "cell_type": "code",
   "execution_count": null,
   "id": "c31ab6f6",
   "metadata": {},
   "outputs": [],
   "source": [
    "df.head()"
   ]
  },
  {
   "cell_type": "markdown",
   "id": "70d007dd",
   "metadata": {},
   "source": [
    "Dataset has been split in 80/20"
   ]
  },
  {
   "cell_type": "code",
   "execution_count": null,
   "id": "100f3646",
   "metadata": {},
   "outputs": [],
   "source": [
    "\n",
    "\n",
    "X = df.drop('stroke', axis=1)\n",
    "y = df['stroke']\n",
    "\n",
    "# Stratify keeps same % of stroke vs non-stroke in train/test\n",
    "X_train, X_test, y_train, y_test = train_test_split(\n",
    "    X, y, test_size=0.2, random_state=42, stratify=y\n",
    ")\n"
   ]
  },
  {
   "cell_type": "markdown",
   "id": "5ec1fb60",
   "metadata": {},
   "source": [
    "Baseline model shows a weighted average recall of only 74%"
   ]
  },
  {
   "cell_type": "code",
   "execution_count": null,
   "id": "4634fc79",
   "metadata": {},
   "outputs": [],
   "source": [
    "from sklearn.linear_model import LogisticRegression\n",
    "from sklearn.metrics import accuracy_score, roc_auc_score, classification_report\n",
    "\n",
    "log_reg = LogisticRegression(max_iter=1000, class_weight='balanced')\n",
    "log_reg.fit(X_train, y_train)\n",
    "\n",
    "y_pred = log_reg.predict(X_test)\n",
    "y_proba = log_reg.predict_proba(X_test)[:,1]\n",
    "\n",
    "print(\"Accuracy:\", accuracy_score(y_test, y_pred))\n",
    "print(\"ROC AUC:\", roc_auc_score(y_test, y_proba))\n",
    "print(classification_report(y_test, y_pred))\n"
   ]
  },
  {
   "cell_type": "code",
   "execution_count": null,
   "id": "168c7cc1",
   "metadata": {},
   "outputs": [],
   "source": [
    "from sklearn.ensemble import RandomForestClassifier\n",
    "\n",
    "rf = RandomForestClassifier(n_estimators=200, random_state=42, class_weight='balanced')\n",
    "rf.fit(X_train, y_train)\n",
    "\n",
    "y_pred_rf = rf.predict(X_test)\n",
    "y_proba_rf = rf.predict_proba(X_test)[:,1]\n",
    "\n",
    "print(\"RF Accuracy:\", accuracy_score(y_test, y_pred_rf))\n",
    "print(\"RF ROC AUC:\", roc_auc_score(y_test, y_proba_rf))\n",
    "print(classification_report(y_test, y_pred_rf))\n"
   ]
  },
  {
   "cell_type": "markdown",
   "id": "201c98d0",
   "metadata": {},
   "source": [
    "Random Forest shows no false positives, which is a good sign for a model based on a medical dataset>"
   ]
  },
  {
   "cell_type": "code",
   "execution_count": null,
   "id": "7ecd82a1",
   "metadata": {},
   "outputs": [],
   "source": [
    "import seaborn as sns\n",
    "import matplotlib.pyplot as plt\n",
    "from sklearn.metrics import confusion_matrix\n",
    "\n",
    "cm = confusion_matrix(y_test, y_pred_rf)\n",
    "sns.heatmap(cm, annot=True, fmt='d', cmap='Blues')\n",
    "plt.xlabel(\"Predicted\")\n",
    "plt.ylabel(\"Actual\")\n",
    "plt.title(\"Random Forest Confusion Matrix\")\n",
    "plt.show()\n"
   ]
  },
  {
   "cell_type": "markdown",
   "id": "92df2e41",
   "metadata": {},
   "source": [
    "Age and glucose level seem to have the biggest effect on strokes, bmi in 200 ids was used as the mean, hence its feature importance cant be sure."
   ]
  },
  {
   "cell_type": "code",
   "execution_count": null,
   "id": "ec23ac15",
   "metadata": {},
   "outputs": [],
   "source": [
    "\n",
    "\n",
    "importances = pd.Series(rf.feature_importances_, index=X.columns)\n",
    "importances.sort_values(ascending=False).plot(kind='bar', figsize=(12,5))\n",
    "plt.title(\"Feature Importance\")\n",
    "plt.show()\n"
   ]
  },
  {
   "cell_type": "markdown",
   "id": "be236664",
   "metadata": {},
   "source": [
    "Author:\n",
    "# Hadi Faheem Farooqi\n",
    "\n",
    "Date: 24/09/2025\n",
    "\n",
    "Dataset: https://www.kaggle.com/datasets/fedesoriano/stroke-prediction-dataset?utm_source=chatgpt.com"
   ]
  }
 ],
 "metadata": {
  "kernelspec": {
   "display_name": "Python 3",
   "language": "python",
   "name": "python3"
  },
  "language_info": {
   "codemirror_mode": {
    "name": "ipython",
    "version": 3
   },
   "file_extension": ".py",
   "mimetype": "text/x-python",
   "name": "python",
   "nbconvert_exporter": "python",
   "pygments_lexer": "ipython3",
   "version": "3.13.7"
  }
 },
 "nbformat": 4,
 "nbformat_minor": 5
}
